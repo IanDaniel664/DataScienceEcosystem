{
 "cells": [
  {
   "cell_type": "markdown",
   "id": "0c0e93b2",
   "metadata": {},
   "source": [
    "# Data Science Tools and Ecosystem"
   ]
  },
  {
   "cell_type": "markdown",
   "id": "ded25cbf",
   "metadata": {},
   "source": [
    "## Author\n",
    "Ian Daniel"
   ]
  },
  {
   "cell_type": "markdown",
   "id": "80f7dda9",
   "metadata": {},
   "source": [
    "In this notebook, Data Science Tools and Ecosystem are summarized."
   ]
  },
  {
   "cell_type": "markdown",
   "id": "0e05cc44",
   "metadata": {},
   "source": [
    "### - Popular languages\n",
    "### - Commonly used libararies\n",
    "### - Data Science Tools"
   ]
  },
  {
   "cell_type": "markdown",
   "id": "82a1db0f",
   "metadata": {},
   "source": [
    "Some of the popular languages that Data Scientists use are:\n",
    "    \n",
    "    1. Python\n",
    "    \n",
    "    2. R\n",
    "    \n",
    "    3. SQL\n",
    "    "
   ]
  },
  {
   "cell_type": "markdown",
   "id": "ce78b3ed",
   "metadata": {},
   "source": [
    "Some of the commonly used libraries used by Data Scientists include:\n",
    "    \n",
    "    1.NumPy.\n",
    "    \n",
    "    2.Keras.\n",
    "    \n",
    "    3.Pandas.\n",
    "    "
   ]
  },
  {
   "cell_type": "markdown",
   "id": "34c9877b",
   "metadata": {},
   "source": [
    "Data Science Tools:\n",
    "\n",
    "    RStudio.\n",
    "\n",
    "    Apache Spark.\n",
    "\n",
    "    TensorFlow.\n"
   ]
  },
  {
   "cell_type": "markdown",
   "id": "ee561d36",
   "metadata": {},
   "source": [
    "### Below are a few examples of evaluating arithmetic expressions in Python"
   ]
  },
  {
   "cell_type": "code",
   "execution_count": 11,
   "id": "1c8544cb",
   "metadata": {},
   "outputs": [],
   "source": [
    "# This is a simple arithmetic expression to multiply then add integers"
   ]
  },
  {
   "cell_type": "code",
   "execution_count": 13,
   "id": "5537d2f7",
   "metadata": {},
   "outputs": [
    {
     "data": {
      "text/plain": [
       "17"
      ]
     },
     "execution_count": 13,
     "metadata": {},
     "output_type": "execute_result"
    }
   ],
   "source": [
    "(3*4)+5"
   ]
  },
  {
   "cell_type": "code",
   "execution_count": null,
   "id": "3d2e309f",
   "metadata": {},
   "outputs": [],
   "source": [
    "# This will convert 200 minutes to hours by diving by 60"
   ]
  },
  {
   "cell_type": "code",
   "execution_count": null,
   "id": "62e7355c",
   "metadata": {},
   "outputs": [],
   "source": [
    "minutes = 200\n",
    "hours = minutes / 60\n",
    "rounded_hours = round(hours, 2)  # Rounds to 2 decimal places\n",
    "print(rounded_hours)"
   ]
  },
  {
   "cell_type": "code",
   "execution_count": null,
   "id": "d856ef8f",
   "metadata": {},
   "outputs": [],
   "source": []
  }
 ],
 "metadata": {
  "kernelspec": {
   "display_name": "Python 3 (ipykernel)",
   "language": "python",
   "name": "python3"
  },
  "language_info": {
   "codemirror_mode": {
    "name": "ipython",
    "version": 3
   },
   "file_extension": ".py",
   "mimetype": "text/x-python",
   "name": "python",
   "nbconvert_exporter": "python",
   "pygments_lexer": "ipython3",
   "version": "3.11.5"
  }
 },
 "nbformat": 4,
 "nbformat_minor": 5
}
